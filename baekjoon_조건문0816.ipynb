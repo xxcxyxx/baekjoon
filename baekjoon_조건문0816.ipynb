{
  "nbformat": 4,
  "nbformat_minor": 0,
  "metadata": {
    "colab": {
      "name": "baekjoon_조건문0816.ipynb",
      "provenance": [],
      "collapsed_sections": [],
      "authorship_tag": "ABX9TyOU9mnD65QFjNrpDN0lcAiW",
      "include_colab_link": true
    },
    "kernelspec": {
      "name": "python3",
      "display_name": "Python 3"
    },
    "language_info": {
      "name": "python"
    }
  },
  "cells": [
    {
      "cell_type": "markdown",
      "metadata": {
        "id": "view-in-github",
        "colab_type": "text"
      },
      "source": [
        "<a href=\"https://colab.research.google.com/github/xxcxyxx/baekjoon/blob/main/baekjoon_%EC%A1%B0%EA%B1%B4%EB%AC%B80816.ipynb\" target=\"_parent\"><img src=\"https://colab.research.google.com/assets/colab-badge.svg\" alt=\"Open In Colab\"/></a>"
      ]
    },
    {
      "cell_type": "markdown",
      "source": [
        "# 조건문"
      ],
      "metadata": {
        "id": "RKcWl8b7vTdd"
      }
    },
    {
      "cell_type": "markdown",
      "source": [
        "2753번 [\b문제보기](https://www.acmicpc.net/problem/2753)"
      ],
      "metadata": {
        "id": "4eVCf6FZs6Rx"
      }
    },
    {
      "cell_type": "code",
      "source": [
        "year=int(input())\n",
        "\n",
        "if (year%4==0 and year%100!=0) or (year%400==0):\n",
        "  print(1)\n",
        "\n",
        "else :\n",
        "  print(0)"
      ],
      "metadata": {
        "colab": {
          "base_uri": "https://localhost:8080/"
        },
        "id": "0W7qxo7ttAYO",
        "outputId": "8e2e9d3d-2307-4c05-e1c5-81ca4bcb327b"
      },
      "execution_count": 1,
      "outputs": [
        {
          "output_type": "stream",
          "name": "stdout",
          "text": [
            "2022\n",
            "0\n"
          ]
        }
      ]
    },
    {
      "cell_type": "markdown",
      "source": [
        "14681번 [문제보기](https://www.acmicpc.net/problem/14681)"
      ],
      "metadata": {
        "id": "00TORg15t4Dc"
      }
    },
    {
      "cell_type": "code",
      "source": [
        "x=int(input(\"x의 값:\"))\n",
        "y=int(input(\"y의 값:\"))\n",
        "\n",
        "if x > 0 and y > 0 :\n",
        "  print(1,\"사분면\")\n",
        "\n",
        "elif x < 0 and y > 0 :\n",
        "  print(2,\"사분면\")\n",
        "\n",
        "elif x < 0 and y < 0 :\n",
        "  print(3,\"사분면\")\n",
        "\n",
        "else : \n",
        "  print(4,\"사분면\")\n",
        "\n"
      ],
      "metadata": {
        "colab": {
          "base_uri": "https://localhost:8080/"
        },
        "id": "dybjl6VStfXu",
        "outputId": "56e0807d-f57a-4171-9775-efa7ab6f2b82"
      },
      "execution_count": 5,
      "outputs": [
        {
          "output_type": "stream",
          "name": "stdout",
          "text": [
            "x의 값:1\n",
            "y의 값:-100\n",
            "4 사분면\n"
          ]
        }
      ]
    },
    {
      "cell_type": "markdown",
      "source": [
        "2884번 [문제보기](https://www.acmicpc.net/problem/2884)"
      ],
      "metadata": {
        "id": "f5TbYU9jvXpG"
      }
    },
    {
      "cell_type": "code",
      "source": [
        "H=int(input())\n",
        "M=int(input())\n",
        "\n",
        "if M < 45 :\t# 분단위가 45분보다 작을 때 \n",
        "    if H == 0 :\t# 0 시이면\n",
        "        H = 23\n",
        "        M += 60\n",
        "    else :\t# 0시가 아니면 (0시보다 크면)\n",
        "        H -= 1\t\n",
        "        M += 60\n",
        "        \n",
        "print(H, M-45)\t"
      ],
      "metadata": {
        "colab": {
          "base_uri": "https://localhost:8080/"
        },
        "id": "R3e3xYhVumYl",
        "outputId": "af800f2f-3977-41ea-df45-9f4048ef8191"
      },
      "execution_count": 13,
      "outputs": [
        {
          "output_type": "stream",
          "name": "stdout",
          "text": [
            "23\n",
            "40\n",
            "22 55\n"
          ]
        }
      ]
    },
    {
      "cell_type": "markdown",
      "source": [
        "2525번 [바로가기](https://www.acmicpc.net/problem/2525)"
      ],
      "metadata": {
        "id": "3O2qruMnxTe6"
      }
    },
    {
      "cell_type": "code",
      "source": [
        "1H, M = map(int, input().split())\n",
        "timer = int(input()) \n",
        "\n",
        "H += timer // 60\n",
        "M += timer % 60\n",
        "\n",
        "if M >= 60:\n",
        "    H += 1\n",
        "    M -= 60\n",
        "if H >= 24:\n",
        "    H -= 24\n",
        "\n",
        "print(H,M)"
      ],
      "metadata": {
        "id": "dRbJ84X5wQox"
      },
      "execution_count": null,
      "outputs": []
    },
    {
      "cell_type": "markdown",
      "source": [
        "2480번 [바로가기](https://www.acmicpc.net/problem/2480)"
      ],
      "metadata": {
        "id": "Qd01x19i149Q"
      }
    },
    {
      "cell_type": "code",
      "source": [
        "a, b, c = map(int, input().split())\n",
        "\n",
        "if a == b == c:\n",
        "    print(10000+a*1000)\n",
        "elif a == b:\n",
        "    print(1000+a*100)\n",
        "elif a == c:\n",
        "    print(1000+a*100)\n",
        "elif b == c:\n",
        "    print(1000+b*100)\n",
        "else:\n",
        "    print(100 * max(a,b,c))"
      ],
      "metadata": {
        "id": "o_l5WyrT18zC"
      },
      "execution_count": null,
      "outputs": []
    }
  ]
}